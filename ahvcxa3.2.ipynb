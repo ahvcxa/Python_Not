{
 "cells": [
  {
   "cell_type": "code",
   "execution_count": 1,
   "metadata": {},
   "outputs": [
    {
     "data": {
      "text/plain": [
       "range(0, 10)"
      ]
     },
     "execution_count": 1,
     "metadata": {},
     "output_type": "execute_result"
    }
   ],
   "source": [
    "#range() fonksiyonu listede ki gibi fazla uğraşmadan sayıları yazdırıyor...\n",
    "range(0,10)"
   ]
  },
  {
   "cell_type": "code",
   "execution_count": 5,
   "metadata": {},
   "outputs": [
    {
     "name": "stdout",
     "output_type": "stream",
     "text": [
      "range(0, 20)\n"
     ]
    }
   ],
   "source": [
    "#fakat üsteki gibi yazınca olmaz yani göstermez.\n",
    "print(range(0,20))"
   ]
  },
  {
   "cell_type": "code",
   "execution_count": 6,
   "metadata": {},
   "outputs": [
    {
     "name": "stdout",
     "output_type": "stream",
     "text": [
      "0 1 2 3 4 5 6 7 8 9 10 11 12 13 14 15 16 17 18 19\n"
     ]
    }
   ],
   "source": [
    "#Maalesef öyle de olmuyor onun için başına * koymalıyız...\n",
    "print(*range(0,20))"
   ]
  },
  {
   "cell_type": "code",
   "execution_count": 7,
   "metadata": {},
   "outputs": [
    {
     "name": "stdout",
     "output_type": "stream",
     "text": [
      "0 1 2 3 4 5 6 7 8 9 10 11 12 13 14 15 16 17 18 19\n"
     ]
    }
   ],
   "source": [
    "#Başlangıç değeri olmaz ise 0 dan başlar...\n",
    "print(*range(20))"
   ]
  },
  {
   "cell_type": "code",
   "execution_count": 9,
   "metadata": {},
   "outputs": [
    {
     "name": "stdout",
     "output_type": "stream",
     "text": [
      "0 2 4 6 8 10 12 14 16 18\n"
     ]
    }
   ],
   "source": [
    "#Bu şekilde atlama değeride girilebilir...\n",
    "print(*range(0,20,2))"
   ]
  },
  {
   "cell_type": "code",
   "execution_count": 11,
   "metadata": {},
   "outputs": [
    {
     "name": "stdout",
     "output_type": "stream",
     "text": [
      "20 19 18 17 16 15 14 13 12 11 10 9 8 7 6 5 4 3 2 1\n"
     ]
    }
   ],
   "source": [
    "#ters komutu -1 yine karşımızda :A:DAW:DAW:ad\n",
    "print(*range(20,0,-1))"
   ]
  },
  {
   "cell_type": "code",
   "execution_count": 3,
   "metadata": {},
   "outputs": [
    {
     "name": "stdout",
     "output_type": "stream",
     "text": [
      "0\n",
      "1\n",
      "2\n",
      "3\n",
      "4\n",
      "5\n",
      "6\n",
      "7\n",
      "8\n",
      "9\n",
      "10\n",
      "11\n",
      "12\n",
      "13\n",
      "14\n",
      "15\n",
      "16\n",
      "17\n",
      "18\n",
      "19\n",
      "20\n",
      "21\n",
      "22\n",
      "23\n",
      "24\n",
      "25\n",
      "26\n",
      "27\n",
      "28\n",
      "29\n",
      "30\n",
      "31\n",
      "32\n",
      "33\n",
      "34\n",
      "35\n",
      "36\n",
      "37\n",
      "38\n",
      "39\n",
      "40\n",
      "41\n",
      "42\n",
      "43\n",
      "44\n",
      "45\n",
      "46\n",
      "47\n",
      "48\n"
     ]
    }
   ],
   "source": [
    "#for dögüleri ile range() in kullanımı bu şekilde ki gibi mpruq :DAD:awd.aw\n",
    "\n",
    "for ahvcxa in range(0,49):\n",
    "    print(ahvcxa)"
   ]
  },
  {
   "cell_type": "code",
   "execution_count": 28,
   "metadata": {},
   "outputs": [
    {
     "name": "stdout",
     "output_type": "stream",
     "text": [
      "****\n",
      "********\n",
      "************\n",
      "****************\n",
      "********************\n",
      "************************\n",
      "****************************\n",
      "********************************\n",
      "************************************\n",
      "****************************************\n",
      "********************************************\n",
      "************************************************\n",
      "****************************************************\n",
      "********************************************************\n",
      "************************************************************\n",
      "****************************************************************\n",
      "********************************************************************\n",
      "************************************************************************\n",
      "****************************************************************************\n",
      "****************************************************************************\n",
      "************************************************************************\n",
      "********************************************************************\n",
      "****************************************************************\n",
      "************************************************************\n",
      "********************************************************\n",
      "****************************************************\n",
      "************************************************\n",
      "********************************************\n",
      "****************************************\n",
      "************************************\n",
      "********************************\n",
      "****************************\n",
      "************************\n",
      "********************\n",
      "****************\n",
      "************\n",
      "********\n",
      "****\n"
     ]
    }
   ],
   "source": [
    "for i in range(1,20):\n",
    "    print(\"****\" * i )\n",
    "for i in range(19,0,-1):\n",
    "    print(\"****\" * i )"
   ]
  },
  {
   "cell_type": "code",
   "execution_count": 8,
   "metadata": {},
   "outputs": [
    {
     "name": "stdout",
     "output_type": "stream",
     "text": [
      "Factorial: 1\n"
     ]
    }
   ],
   "source": [
    "fact = 1\n",
    "for i in range(2,2):\n",
    "    fact *=i\n",
    "print(\"Factorial:\",fact)\n",
    "\n"
   ]
  },
  {
   "cell_type": "code",
   "execution_count": null,
   "metadata": {},
   "outputs": [],
   "source": []
  }
 ],
 "metadata": {
  "kernelspec": {
   "display_name": "Python 3",
   "language": "python",
   "name": "python3"
  },
  "language_info": {
   "codemirror_mode": {
    "name": "ipython",
    "version": 3
   },
   "file_extension": ".py",
   "mimetype": "text/x-python",
   "name": "python",
   "nbconvert_exporter": "python",
   "pygments_lexer": "ipython3",
   "version": "3.7.6"
  }
 },
 "nbformat": 4,
 "nbformat_minor": 4
}
