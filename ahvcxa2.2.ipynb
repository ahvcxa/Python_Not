{
 "cells": [
  {
   "cell_type": "code",
   "execution_count": 13,
   "metadata": {},
   "outputs": [
    {
     "name": "stdout",
     "output_type": "stream",
     "text": [
      "Yaşınızı Giriniz: 12\n",
      "6 yıl sonra tekrar bekleriz :3 \n"
     ]
    }
   ],
   "source": [
    "yaş= int(input(\"Yaşınızı Giriniz: \"))\n",
    "if yaş<18 :\n",
    "    a= 18-yaş\n",
    "    print(\"{} yıl sonra tekrar bekleriz :3 \".format(a))\n",
    "else:\n",
    "        print(\"Mekan sizin ömrün bitinceye kadar kal reis :) \")"
   ]
  },
  {
   "cell_type": "code",
   "execution_count": null,
   "metadata": {},
   "outputs": [],
   "source": [
    "#Mantığı şöyle \"if(koşul):\" veya \"else:\" den sonra al satıra geçince 4 satır boşluk olmalı oto bırakmıyorsa sen bırak moruq:d\n"
   ]
  }
 ],
 "metadata": {
  "kernelspec": {
   "display_name": "Python 3",
   "language": "python",
   "name": "python3"
  },
  "language_info": {
   "codemirror_mode": {
    "name": "ipython",
    "version": 3
   },
   "file_extension": ".py",
   "mimetype": "text/x-python",
   "name": "python",
   "nbconvert_exporter": "python",
   "pygments_lexer": "ipython3",
   "version": "3.7.6"
  }
 },
 "nbformat": 4,
 "nbformat_minor": 4
}
