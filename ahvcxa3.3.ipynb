{
 "cells": [
  {
   "cell_type": "code",
   "execution_count": 6,
   "metadata": {},
   "outputs": [
    {
     "name": "stdout",
     "output_type": "stream",
     "text": [
      "sayı: 0\n",
      "sayı: 1\n",
      "sayı: 2\n",
      "sayı: 3\n",
      "sayı: 4\n",
      "sayı: 5\n",
      "sayı: 6\n",
      "sayı: 7\n",
      "sayı: 8\n",
      "sayı: 9\n",
      "sayı: 10\n"
     ]
    }
   ],
   "source": [
    "#bir koşulda uygulamayı durdurmaya yarıyor \n",
    "for i in range(20):\n",
    "    if  i==11 :\n",
    "        break\n",
    "    print(\"sayı:\",i)\n",
    "    \n",
    "    "
   ]
  },
  {
   "cell_type": "code",
   "execution_count": 7,
   "metadata": {},
   "outputs": [
    {
     "name": "stdout",
     "output_type": "stream",
     "text": [
      "sayı 1\n",
      "sayı 2\n",
      "sayı 3\n",
      "sayı 4\n",
      "sayı 5\n",
      "sayı 6\n",
      "sayı 7\n",
      "sayı 8\n",
      "sayı 9\n",
      "sayı 10\n",
      "sayı 11\n",
      "sayı 12\n",
      "sayı 13\n",
      "sayı 14\n",
      "sayı 15\n"
     ]
    }
   ],
   "source": [
    "a=1\n",
    "while(a<20):\n",
    "    if a==16:\n",
    "        break\n",
    "    print(\"sayı\",a)\n",
    "    a+=1"
   ]
  },
  {
   "cell_type": "code",
   "execution_count": 14,
   "metadata": {},
   "outputs": [
    {
     "name": "stdout",
     "output_type": "stream",
     "text": [
      "Bir isim giriniz: gece\n",
      "isminiz:  gece\n",
      "Bir isim giriniz: ahvcxa\n",
      "o isimi herkes alamaz!\n"
     ]
    }
   ],
   "source": [
    "#ismime ahvcxa girersem program duracak:A:DW:AW:dwa:\n",
    "while True:\n",
    "    isim=input(\"Bir isim giriniz: \")\n",
    "    if isim==\"ahvcxa\":\n",
    "        print(\"o isimi herkes alamaz!\")\n",
    "        break\n",
    "    print(\"isminiz: \",isim)    "
   ]
  },
  {
   "cell_type": "code",
   "execution_count": 33,
   "metadata": {},
   "outputs": [
    {
     "name": "stdout",
     "output_type": "stream",
     "text": [
      "o: 0\n",
      "o: 1\n",
      "o: 2\n",
      "o: 3\n",
      "o: 4\n",
      "o: 6\n",
      "o: 8\n",
      "o: 9\n",
      "o: 10\n"
     ]
    }
   ],
   "source": [
    "#continue ifadesi pek kullanılmıyor nedeni sonsuz dögüye girebilmesi,özelliği ise aşağıyı almaması\n",
    "liste= list(range(11))\n",
    "for o in liste:\n",
    "    if (o==7 or o==5):\n",
    "        continue\n",
    "    print(\"o:\",o)   "
   ]
  },
  {
   "cell_type": "code",
   "execution_count": 34,
   "metadata": {},
   "outputs": [
    {
     "name": "stdout",
     "output_type": "stream",
     "text": [
      "sayı: 1\n",
      "sayı: 2\n",
      "sayı: 3\n",
      "sayı: 4\n"
     ]
    },
    {
     "ename": "KeyboardInterrupt",
     "evalue": "",
     "output_type": "error",
     "traceback": [
      "\u001b[1;31m---------------------------------------------------------------------------\u001b[0m",
      "\u001b[1;31mKeyboardInterrupt\u001b[0m                         Traceback (most recent call last)",
      "\u001b[1;32m<ipython-input-34-a882674f3e2f>\u001b[0m in \u001b[0;36m<module>\u001b[1;34m\u001b[0m\n\u001b[0;32m      1\u001b[0m \u001b[0ms\u001b[0m\u001b[1;33m=\u001b[0m\u001b[1;36m1\u001b[0m\u001b[1;33m\u001b[0m\u001b[1;33m\u001b[0m\u001b[0m\n\u001b[1;32m----> 2\u001b[1;33m \u001b[1;32mwhile\u001b[0m\u001b[1;33m(\u001b[0m\u001b[0ms\u001b[0m\u001b[1;33m<\u001b[0m\u001b[1;36m11\u001b[0m\u001b[1;33m)\u001b[0m\u001b[1;33m:\u001b[0m\u001b[1;33m\u001b[0m\u001b[1;33m\u001b[0m\u001b[0m\n\u001b[0m\u001b[0;32m      3\u001b[0m     \u001b[1;32mif\u001b[0m \u001b[0ms\u001b[0m\u001b[1;33m==\u001b[0m\u001b[1;36m5\u001b[0m\u001b[1;33m:\u001b[0m\u001b[1;33m\u001b[0m\u001b[1;33m\u001b[0m\u001b[0m\n\u001b[0;32m      4\u001b[0m         \u001b[1;32mcontinue\u001b[0m\u001b[1;33m\u001b[0m\u001b[1;33m\u001b[0m\u001b[0m\n\u001b[0;32m      5\u001b[0m     \u001b[0mprint\u001b[0m\u001b[1;33m(\u001b[0m\u001b[1;34m\"sayı:\"\u001b[0m\u001b[1;33m,\u001b[0m\u001b[0ms\u001b[0m\u001b[1;33m)\u001b[0m\u001b[1;33m\u001b[0m\u001b[1;33m\u001b[0m\u001b[0m\n",
      "\u001b[1;31mKeyboardInterrupt\u001b[0m: "
     ]
    }
   ],
   "source": [
    "#Bu şekilde dögü sonsuza kadar sürüyor peki neden s+=1 ifadesini de almıyor continue den sonra böylece hata oluyor \n",
    "s=1\n",
    "while(s<11):\n",
    "    if s==5:\n",
    "        continue\n",
    "    print(\"sayı:\",s)\n",
    "    s+=1\n",
    "    "
   ]
  },
  {
   "cell_type": "code",
   "execution_count": 2,
   "metadata": {},
   "outputs": [
    {
     "name": "stdout",
     "output_type": "stream",
     "text": [
      "0\n",
      "1\n",
      "2\n",
      "3\n",
      "4\n",
      "6\n",
      "7\n",
      "8\n",
      "9\n",
      "10\n"
     ]
    }
   ],
   "source": [
    "#İşte böyle doğru oluyorr...\n",
    "s=0\n",
    "while(s<11):\n",
    "    if s==5:\n",
    "        s +=1\n",
    "        continue\n",
    "    print(s)\n",
    "    s+=1   "
   ]
  },
  {
   "cell_type": "code",
   "execution_count": null,
   "metadata": {},
   "outputs": [],
   "source": []
  }
 ],
 "metadata": {
  "kernelspec": {
   "display_name": "Python 3",
   "language": "python",
   "name": "python3"
  },
  "language_info": {
   "codemirror_mode": {
    "name": "ipython",
    "version": 3
   },
   "file_extension": ".py",
   "mimetype": "text/x-python",
   "name": "python",
   "nbconvert_exporter": "python",
   "pygments_lexer": "ipython3",
   "version": "3.7.6"
  }
 },
 "nbformat": 4,
 "nbformat_minor": 4
}
