{
 "cells": [
  {
   "cell_type": "code",
   "execution_count": 1,
   "metadata": {},
   "outputs": [],
   "source": [
    "#Şimdi bak reis; elif veya else komutları tek başına olmuyor ve onlar ile başlanmıyor  \n",
    "#ve sıralama şu şekilde oluyor if-elif-else  \n",
    "#eğer elif yerine yine if kullanırsan diğer koşulu tınlamıyor o da çalışıyor... "
   ]
  },
  {
   "cell_type": "code",
   "execution_count": 6,
   "metadata": {},
   "outputs": [
    {
     "name": "stdout",
     "output_type": "stream",
     "text": [
      "Hokage numaranı seç : 6\n",
      "Harika çöp seçim !!!!\n"
     ]
    }
   ],
   "source": [
    "hokage = int(input(\"Hokage numaranı seç : \"))\n",
    "if(hokage <= 4):\n",
    "    print(\"Harika seçim moruq ^-^ \")\n",
    "elif(hokage==5):\n",
    "    print(\"Tsudane iyi seçim :) \")\n",
    "else: \n",
    "    print(\"Harika çöp seçim !!!!\")"
   ]
  },
  {
   "cell_type": "code",
   "execution_count": null,
   "metadata": {},
   "outputs": [],
   "source": [
    "\n"
   ]
  }
 ],
 "metadata": {
  "kernelspec": {
   "display_name": "Python 3",
   "language": "python",
   "name": "python3"
  },
  "language_info": {
   "codemirror_mode": {
    "name": "ipython",
    "version": 3
   },
   "file_extension": ".py",
   "mimetype": "text/x-python",
   "name": "python",
   "nbconvert_exporter": "python",
   "pygments_lexer": "ipython3",
   "version": "3.7.6"
  }
 },
 "nbformat": 4,
 "nbformat_minor": 4
}
