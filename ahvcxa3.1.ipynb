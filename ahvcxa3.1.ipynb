{
 "cells": [
  {
   "cell_type": "code",
   "execution_count": 7,
   "metadata": {},
   "outputs": [
    {
     "name": "stdout",
     "output_type": "stream",
     "text": [
      "i'nin değeri :  0\n",
      "i'nin değeri :  1\n",
      "i'nin değeri :  2\n",
      "i'nin değeri :  3\n",
      "i'nin değeri :  4\n",
      "i'nin değeri :  5\n",
      "i'nin değeri :  6\n",
      "i'nin değeri :  7\n",
      "i'nin değeri :  8\n",
      "i'nin değeri :  9\n"
     ]
    }
   ],
   "source": [
    "#sonsuza kadar gidebilir bir koşul girmeliyiz... her programcı unuturmuş ::AWDAW:Daw\n",
    "i=0\n",
    "while(i<10):\n",
    "    print(\"i'nin değeri : \",i)\n",
    "    i+=1"
   ]
  },
  {
   "cell_type": "code",
   "execution_count": 12,
   "metadata": {},
   "outputs": [
    {
     "name": "stdout",
     "output_type": "stream",
     "text": [
      "sıralama: 0 nick: ahvcxa\n",
      "sıralama: 1 nick: lorofowl\n",
      "sıralama: 2 nick: factorial\n",
      "sıralama: 3 nick: momochi\n"
     ]
    }
   ],
   "source": [
    "liste=[\"ahvcxa\",\"lorofowl\",\"factorial\",\"momochi\"]\n",
    "sayı=0\n",
    "while(sayı<len(liste)):\n",
    "    print(\"sıralama:\",sayı,\"nick:\",liste[sayı])\n",
    "    sayı+=1"
   ]
  },
  {
   "cell_type": "code",
   "execution_count": null,
   "metadata": {},
   "outputs": [],
   "source": []
  }
 ],
 "metadata": {
  "kernelspec": {
   "display_name": "Python 3",
   "language": "python",
   "name": "python3"
  },
  "language_info": {
   "codemirror_mode": {
    "name": "ipython",
    "version": 3
   },
   "file_extension": ".py",
   "mimetype": "text/x-python",
   "name": "python",
   "nbconvert_exporter": "python",
   "pygments_lexer": "ipython3",
   "version": "3.7.6"
  }
 },
 "nbformat": 4,
 "nbformat_minor": 4
}
